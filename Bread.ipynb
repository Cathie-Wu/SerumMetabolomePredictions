{
 "cells": [
  {
   "cell_type": "markdown",
   "metadata": {},
   "source": [
    "# imports"
   ]
  },
  {
   "cell_type": "code",
   "execution_count": 1,
   "metadata": {
    "ExecuteTime": {
     "end_time": "2020-08-11T13:50:38.194434Z",
     "start_time": "2020-08-11T13:50:30.786382Z"
    }
   },
   "outputs": [
    {
     "name": "stderr",
     "output_type": "stream",
     "text": [
      "/usr/wisdom/python-3.7.4/lib/python3.7/site-packages/statsmodels/tools/_testing.py:19: FutureWarning: pandas.util.testing is deprecated. Use the functions in the public API at pandas.testing instead.\n",
      "  import pandas.util.testing as tm\n"
     ]
    }
   ],
   "source": [
    "%load_ext autoreload\n",
    "%autoreload 2\n",
    "%matplotlib inline\n",
    "\n",
    "from MetabolomicsPaper.GeneralHelperFunctions import *\n",
    "\n",
    "paper_dir = '/net/mraid08/export/jafar/Microbiome/Analyses/Noamba/Metabolon/Paper_v6/'\n",
    "figure_dir = os.path.join(paper_dir, 'Bread')\n",
    "make_dir_if_not_exists(figure_dir)\n",
    "os.chdir(paper_dir)"
   ]
  },
  {
   "cell_type": "markdown",
   "metadata": {},
   "source": [
    "# Load data"
   ]
  },
  {
   "cell_type": "code",
   "execution_count": 2,
   "metadata": {
    "ExecuteTime": {
     "end_time": "2020-08-11T13:50:42.767617Z",
     "start_time": "2020-08-11T13:50:38.197209Z"
    }
   },
   "outputs": [],
   "source": [
    "bread_df = pd.read_csv('/net/mraid08/export/jafar/Microbiome/Analyses/Noamba/microbiome_files/bread_df.csv', index_col=0, parse_dates=['StorageDT'])\n",
    "bread_start = bread_df.groupby('ConnectionID').apply(lambda x: x.loc[x.StorageDT.idxmin()]).copy()\n",
    "bread_end = bread_df.groupby('ConnectionID').apply(lambda x: x.loc[x.StorageDT.idxmax()]).copy()\n",
    "os_1_cid = pd.read_csv('dataframes/os_1_cid.csv', index_col=0)\n",
    "samps1 = pd.read_csv('dataframes/samps1.csv', index_col=0)\n",
    "updated_metabs1 = pd.read_csv('dataframes/updated_metabs1.csv', index_col=0)\n",
    "metabolomics = pd.read_csv('../technical_noise/dataframes/mar17_metabolomics_unnormed_fillna_min_dayfromfirstsample_regressed_rzs.csv', index_col=0)\n",
    "\n",
    "rzs = change_index(robust_zs(os_1_cid.fillna(os_1_cid.min()).apply(np.log10)).copy(), samps1, 'SAMPLE_ID', 'CLIENT_IDENTIFIER')"
   ]
  },
  {
   "cell_type": "code",
   "execution_count": 3,
   "metadata": {
    "ExecuteTime": {
     "end_time": "2020-08-11T13:50:42.910329Z",
     "start_time": "2020-08-11T13:50:42.770512Z"
    }
   },
   "outputs": [],
   "source": [
    "wholemeal_bread_diff = (change_index(rzs.loc[bread_end[bread_start.W1IsReg == False].CLIENT_IDENTIFIER].copy(), bread_df, 'CLIENT_IDENTIFIER', 'ConnectionID').fillna(-3) - \\\n",
    "                  change_index(rzs.loc[bread_start[bread_start.W1IsReg == False].CLIENT_IDENTIFIER].copy(), bread_df, 'CLIENT_IDENTIFIER', 'ConnectionID').fillna(-3)).fillna(0).mean().loc[rzs.columns].copy().values\n",
    "whitewheat_bread_diff = (change_index(rzs.loc[bread_end[bread_start.W1IsReg == True].CLIENT_IDENTIFIER].copy(), bread_df, 'CLIENT_IDENTIFIER', 'ConnectionID').fillna(-3) - \\\n",
    "                  change_index(rzs.loc[bread_start[bread_start.W1IsReg == True].CLIENT_IDENTIFIER].copy(), bread_df, 'CLIENT_IDENTIFIER', 'ConnectionID').fillna(-3)).fillna(0).mean().loc[rzs.columns].copy().values\n",
    "n_percentiles = 20.\n",
    "wholemeal_bread_diff_df = pd.DataFrame((pd.qcut(wholemeal_bread_diff, int(n_percentiles), labels=False) / n_percentiles), index=rzs.columns, columns=['Percentiles']).copy()\n",
    "wholemeal_bread_diff_df['diff'] = wholemeal_bread_diff\n",
    "whitewheat_bread_diff_df = pd.DataFrame((pd.qcut(whitewheat_bread_diff, int(n_percentiles), labels=False) / n_percentiles), index=rzs.columns, columns=['Percentiles']).copy()\n",
    "whitewheat_bread_diff_df['diff'] = whitewheat_bread_diff"
   ]
  },
  {
   "cell_type": "markdown",
   "metadata": {},
   "source": [
    "## B+D - hist+boxplots"
   ]
  },
  {
   "cell_type": "code",
   "execution_count": 104,
   "metadata": {
    "ExecuteTime": {
     "end_time": "2020-06-23T19:55:20.107301Z",
     "start_time": "2020-06-23T19:55:20.048252Z"
    }
   },
   "outputs": [
    {
     "data": {
      "text/plain": [
       "Percentiles    0.10000\n",
       "diff          -0.30833\n",
       "Name: 100003473, dtype: float64"
      ]
     },
     "execution_count": 104,
     "metadata": {},
     "output_type": "execute_result"
    }
   ],
   "source": [
    "wholemeal_bread_diff_df.loc['100003473']"
   ]
  },
  {
   "cell_type": "code",
   "execution_count": 105,
   "metadata": {
    "ExecuteTime": {
     "end_time": "2020-06-23T19:55:22.207801Z",
     "start_time": "2020-06-23T19:55:22.151572Z"
    },
    "collapsed": true
   },
   "outputs": [
    {
     "data": {
      "text/plain": [
       "COMP_ID                                                           41494\n",
       "                               Group   HMDB_ID                HMDB33592\n",
       "                               Sample   HMDB_ID                     NaN\n",
       "BIOCHEMICAL                                                      alliin\n",
       "CAS                                                            556-27-4\n",
       "CHEMSPIDER                                                        78760\n",
       "KEGG                                                             C08265\n",
       "MASS                                                            178.053\n",
       "PATHWAY_SORTORDER                                                  3733\n",
       "PLATFORM                                                LC/MS Pos Early\n",
       "PUBCHEM                                                           87310\n",
       "RI                                                                 1470\n",
       "SUB_PATHWAY                                        Food Component/Plant\n",
       "SUPER_PATHWAY                                               Xenobiotics\n",
       "COMMENT                                                          alliin\n",
       "Name: 100003473, dtype: object"
      ]
     },
     "execution_count": 105,
     "metadata": {},
     "output_type": "execute_result"
    }
   ],
   "source": [
    "updated_metabs1.loc['100003473']"
   ]
  },
  {
   "cell_type": "code",
   "execution_count": 63,
   "metadata": {
    "ExecuteTime": {
     "end_time": "2020-06-23T19:43:13.046681Z",
     "start_time": "2020-06-23T19:43:12.951478Z"
    },
    "collapsed": true
   },
   "outputs": [
    {
     "data": {
      "text/html": [
       "<div>\n",
       "<style scoped>\n",
       "    .dataframe tbody tr th:only-of-type {\n",
       "        vertical-align: middle;\n",
       "    }\n",
       "\n",
       "    .dataframe tbody tr th {\n",
       "        vertical-align: top;\n",
       "    }\n",
       "\n",
       "    .dataframe thead th {\n",
       "        text-align: right;\n",
       "    }\n",
       "</style>\n",
       "<table border=\"1\" class=\"dataframe\">\n",
       "  <thead>\n",
       "    <tr style=\"text-align: right;\">\n",
       "      <th></th>\n",
       "      <th>COMP_ID</th>\n",
       "      <th>Group   HMDB_ID</th>\n",
       "      <th>Sample   HMDB_ID</th>\n",
       "      <th>BIOCHEMICAL</th>\n",
       "      <th>CAS</th>\n",
       "      <th>CHEMSPIDER</th>\n",
       "      <th>KEGG</th>\n",
       "      <th>MASS</th>\n",
       "      <th>PATHWAY_SORTORDER</th>\n",
       "      <th>PLATFORM</th>\n",
       "      <th>PUBCHEM</th>\n",
       "      <th>RI</th>\n",
       "      <th>SUB_PATHWAY</th>\n",
       "      <th>SUPER_PATHWAY</th>\n",
       "      <th>COMMENT</th>\n",
       "    </tr>\n",
       "    <tr>\n",
       "      <th>CHEMICAL_ID</th>\n",
       "      <th></th>\n",
       "      <th></th>\n",
       "      <th></th>\n",
       "      <th></th>\n",
       "      <th></th>\n",
       "      <th></th>\n",
       "      <th></th>\n",
       "      <th></th>\n",
       "      <th></th>\n",
       "      <th></th>\n",
       "      <th></th>\n",
       "      <th></th>\n",
       "      <th></th>\n",
       "      <th></th>\n",
       "      <th></th>\n",
       "    </tr>\n",
       "  </thead>\n",
       "  <tbody>\n",
       "    <tr>\n",
       "      <th>100009332</th>\n",
       "      <td>53261</td>\n",
       "      <td>NaN</td>\n",
       "      <td>NaN</td>\n",
       "      <td>arachidonoylcholine</td>\n",
       "      <td>NaN</td>\n",
       "      <td>NaN</td>\n",
       "      <td>NaN</td>\n",
       "      <td>390.33666</td>\n",
       "      <td>1410.0</td>\n",
       "      <td>LC/MS Pos Late</td>\n",
       "      <td>NaN</td>\n",
       "      <td>1390.0</td>\n",
       "      <td>Fatty Acid Metabolism (Acyl Choline)</td>\n",
       "      <td>Lipid</td>\n",
       "      <td>arachidonoylcholine</td>\n",
       "    </tr>\n",
       "    <tr>\n",
       "      <th>1256</th>\n",
       "      <td>15506</td>\n",
       "      <td>HMDB00097</td>\n",
       "      <td>NaN</td>\n",
       "      <td>choline</td>\n",
       "      <td>67-48-1</td>\n",
       "      <td>149278.0</td>\n",
       "      <td>C00114</td>\n",
       "      <td>104.10699</td>\n",
       "      <td>1618.0</td>\n",
       "      <td>LC/MS Pos Early</td>\n",
       "      <td>305.0</td>\n",
       "      <td>1961.0</td>\n",
       "      <td>Phospholipid Metabolism</td>\n",
       "      <td>Lipid</td>\n",
       "      <td>choline</td>\n",
       "    </tr>\n",
       "    <tr>\n",
       "      <th>267</th>\n",
       "      <td>34396</td>\n",
       "      <td>HMDB01565</td>\n",
       "      <td>NaN</td>\n",
       "      <td>choline phosphate</td>\n",
       "      <td>72556-74-2</td>\n",
       "      <td>119298.0</td>\n",
       "      <td>C00588</td>\n",
       "      <td>184.07332</td>\n",
       "      <td>1619.0</td>\n",
       "      <td>LC/MS Pos Early</td>\n",
       "      <td>1014.0</td>\n",
       "      <td>700.0</td>\n",
       "      <td>Phospholipid Metabolism</td>\n",
       "      <td>Lipid</td>\n",
       "      <td>choline phosphate</td>\n",
       "    </tr>\n",
       "    <tr>\n",
       "      <th>100009335</th>\n",
       "      <td>53262</td>\n",
       "      <td>NaN</td>\n",
       "      <td>NaN</td>\n",
       "      <td>dihomo-linolenoyl-choline</td>\n",
       "      <td>NaN</td>\n",
       "      <td>NaN</td>\n",
       "      <td>NaN</td>\n",
       "      <td>392.35231</td>\n",
       "      <td>1406.0</td>\n",
       "      <td>LC/MS Pos Late</td>\n",
       "      <td>NaN</td>\n",
       "      <td>1424.0</td>\n",
       "      <td>Fatty Acid Metabolism (Acyl Choline)</td>\n",
       "      <td>Lipid</td>\n",
       "      <td>dihomo-linolenoyl-choline</td>\n",
       "    </tr>\n",
       "    <tr>\n",
       "      <th>100009333</th>\n",
       "      <td>53263</td>\n",
       "      <td>NaN</td>\n",
       "      <td>NaN</td>\n",
       "      <td>docosahexaenoylcholine</td>\n",
       "      <td>NaN</td>\n",
       "      <td>NaN</td>\n",
       "      <td>NaN</td>\n",
       "      <td>414.33666</td>\n",
       "      <td>1409.0</td>\n",
       "      <td>LC/MS Pos Late</td>\n",
       "      <td>NaN</td>\n",
       "      <td>1378.0</td>\n",
       "      <td>Fatty Acid Metabolism (Acyl Choline)</td>\n",
       "      <td>Lipid</td>\n",
       "      <td>docosahexaenoylcholine</td>\n",
       "    </tr>\n",
       "    <tr>\n",
       "      <th>100009336</th>\n",
       "      <td>53258</td>\n",
       "      <td>NaN</td>\n",
       "      <td>NaN</td>\n",
       "      <td>eicosapentaenoylcholine</td>\n",
       "      <td>NaN</td>\n",
       "      <td>NaN</td>\n",
       "      <td>NaN</td>\n",
       "      <td>388.32101</td>\n",
       "      <td>1411.0</td>\n",
       "      <td>LC/MS Pos Late</td>\n",
       "      <td>NaN</td>\n",
       "      <td>1343.0</td>\n",
       "      <td>Fatty Acid Metabolism (Acyl Choline)</td>\n",
       "      <td>Lipid</td>\n",
       "      <td>eicosapentaenoylcholine</td>\n",
       "    </tr>\n",
       "    <tr>\n",
       "      <th>100000269</th>\n",
       "      <td>15990</td>\n",
       "      <td>HMDB00086</td>\n",
       "      <td>NaN</td>\n",
       "      <td>glycerophosphorylcholine (GPC)</td>\n",
       "      <td>28319-77-9</td>\n",
       "      <td>571409.0</td>\n",
       "      <td>C00670</td>\n",
       "      <td>258.11010</td>\n",
       "      <td>1622.0</td>\n",
       "      <td>LC/MS Pos Early</td>\n",
       "      <td>71920.0</td>\n",
       "      <td>672.0</td>\n",
       "      <td>Phospholipid Metabolism</td>\n",
       "      <td>Lipid</td>\n",
       "      <td>glycerophosphorylcholine (GPC)</td>\n",
       "    </tr>\n",
       "    <tr>\n",
       "      <th>100015760</th>\n",
       "      <td>57463</td>\n",
       "      <td>NaN</td>\n",
       "      <td>NaN</td>\n",
       "      <td>linoleoylcholine*</td>\n",
       "      <td>NaN</td>\n",
       "      <td>NaN</td>\n",
       "      <td>NaN</td>\n",
       "      <td>366.33666</td>\n",
       "      <td>1407.0</td>\n",
       "      <td>LC/MS Pos Late</td>\n",
       "      <td>NaN</td>\n",
       "      <td>1388.0</td>\n",
       "      <td>Fatty Acid Metabolism (Acyl Choline)</td>\n",
       "      <td>Lipid</td>\n",
       "      <td>linoleoylcholine*</td>\n",
       "    </tr>\n",
       "    <tr>\n",
       "      <th>100009331</th>\n",
       "      <td>53260</td>\n",
       "      <td>NaN</td>\n",
       "      <td>NaN</td>\n",
       "      <td>oleoylcholine</td>\n",
       "      <td>NaN</td>\n",
       "      <td>NaN</td>\n",
       "      <td>NaN</td>\n",
       "      <td>368.35231</td>\n",
       "      <td>1404.0</td>\n",
       "      <td>LC/MS Pos Late</td>\n",
       "      <td>NaN</td>\n",
       "      <td>1449.0</td>\n",
       "      <td>Fatty Acid Metabolism (Acyl Choline)</td>\n",
       "      <td>Lipid</td>\n",
       "      <td>oleoylcholine</td>\n",
       "    </tr>\n",
       "    <tr>\n",
       "      <th>100009334</th>\n",
       "      <td>53257</td>\n",
       "      <td>NaN</td>\n",
       "      <td>NaN</td>\n",
       "      <td>palmitoloelycholine</td>\n",
       "      <td>NaN</td>\n",
       "      <td>NaN</td>\n",
       "      <td>NaN</td>\n",
       "      <td>340.32101</td>\n",
       "      <td>1405.0</td>\n",
       "      <td>LC/MS Pos Late</td>\n",
       "      <td>NaN</td>\n",
       "      <td>1385.0</td>\n",
       "      <td>Fatty Acid Metabolism (Acyl Choline)</td>\n",
       "      <td>Lipid</td>\n",
       "      <td>palmitoloelycholine</td>\n",
       "    </tr>\n",
       "    <tr>\n",
       "      <th>100009233</th>\n",
       "      <td>52944</td>\n",
       "      <td>NaN</td>\n",
       "      <td>NaN</td>\n",
       "      <td>palmitoylcholine</td>\n",
       "      <td>NaN</td>\n",
       "      <td>133731.0</td>\n",
       "      <td>NaN</td>\n",
       "      <td>342.33666</td>\n",
       "      <td>1403.0</td>\n",
       "      <td>LC/MS Pos Late</td>\n",
       "      <td>151731.0</td>\n",
       "      <td>1482.0</td>\n",
       "      <td>Fatty Acid Metabolism (Acyl Choline)</td>\n",
       "      <td>Lipid</td>\n",
       "      <td>palmitoylcholine</td>\n",
       "    </tr>\n",
       "    <tr>\n",
       "      <th>100015759</th>\n",
       "      <td>57464</td>\n",
       "      <td>NaN</td>\n",
       "      <td>NaN</td>\n",
       "      <td>stearoylcholine*</td>\n",
       "      <td>NaN</td>\n",
       "      <td>NaN</td>\n",
       "      <td>NaN</td>\n",
       "      <td>370.36797</td>\n",
       "      <td>1408.0</td>\n",
       "      <td>LC/MS Pos Late</td>\n",
       "      <td>NaN</td>\n",
       "      <td>1520.0</td>\n",
       "      <td>Fatty Acid Metabolism (Acyl Choline)</td>\n",
       "      <td>Lipid</td>\n",
       "      <td>stearoylcholine*</td>\n",
       "    </tr>\n",
       "  </tbody>\n",
       "</table>\n",
       "</div>"
      ],
      "text/plain": [
       "             COMP_ID                                Group   HMDB_ID  \\\n",
       "CHEMICAL_ID                                                           \n",
       "100009332      53261                                            NaN   \n",
       "1256           15506                                      HMDB00097   \n",
       "267            34396                                      HMDB01565   \n",
       "100009335      53262                                            NaN   \n",
       "100009333      53263                                            NaN   \n",
       "100009336      53258                                            NaN   \n",
       "100000269      15990                                      HMDB00086   \n",
       "100015760      57463                                            NaN   \n",
       "100009331      53260                                            NaN   \n",
       "100009334      53257                                            NaN   \n",
       "100009233      52944                                            NaN   \n",
       "100015759      57464                                            NaN   \n",
       "\n",
       "                                           Sample   HMDB_ID  \\\n",
       "CHEMICAL_ID                                                   \n",
       "100009332                                               NaN   \n",
       "1256                                                    NaN   \n",
       "267                                                     NaN   \n",
       "100009335                                               NaN   \n",
       "100009333                                               NaN   \n",
       "100009336                                               NaN   \n",
       "100000269                                               NaN   \n",
       "100015760                                               NaN   \n",
       "100009331                                               NaN   \n",
       "100009334                                               NaN   \n",
       "100009233                                               NaN   \n",
       "100015759                                               NaN   \n",
       "\n",
       "                                BIOCHEMICAL         CAS  CHEMSPIDER    KEGG  \\\n",
       "CHEMICAL_ID                                                                   \n",
       "100009332               arachidonoylcholine         NaN         NaN     NaN   \n",
       "1256                                choline     67-48-1    149278.0  C00114   \n",
       "267                       choline phosphate  72556-74-2    119298.0  C00588   \n",
       "100009335         dihomo-linolenoyl-choline         NaN         NaN     NaN   \n",
       "100009333            docosahexaenoylcholine         NaN         NaN     NaN   \n",
       "100009336           eicosapentaenoylcholine         NaN         NaN     NaN   \n",
       "100000269    glycerophosphorylcholine (GPC)  28319-77-9    571409.0  C00670   \n",
       "100015760                 linoleoylcholine*         NaN         NaN     NaN   \n",
       "100009331                     oleoylcholine         NaN         NaN     NaN   \n",
       "100009334               palmitoloelycholine         NaN         NaN     NaN   \n",
       "100009233                  palmitoylcholine         NaN    133731.0     NaN   \n",
       "100015759                  stearoylcholine*         NaN         NaN     NaN   \n",
       "\n",
       "                  MASS  PATHWAY_SORTORDER         PLATFORM   PUBCHEM      RI  \\\n",
       "CHEMICAL_ID                                                                    \n",
       "100009332    390.33666             1410.0   LC/MS Pos Late       NaN  1390.0   \n",
       "1256         104.10699             1618.0  LC/MS Pos Early     305.0  1961.0   \n",
       "267          184.07332             1619.0  LC/MS Pos Early    1014.0   700.0   \n",
       "100009335    392.35231             1406.0   LC/MS Pos Late       NaN  1424.0   \n",
       "100009333    414.33666             1409.0   LC/MS Pos Late       NaN  1378.0   \n",
       "100009336    388.32101             1411.0   LC/MS Pos Late       NaN  1343.0   \n",
       "100000269    258.11010             1622.0  LC/MS Pos Early   71920.0   672.0   \n",
       "100015760    366.33666             1407.0   LC/MS Pos Late       NaN  1388.0   \n",
       "100009331    368.35231             1404.0   LC/MS Pos Late       NaN  1449.0   \n",
       "100009334    340.32101             1405.0   LC/MS Pos Late       NaN  1385.0   \n",
       "100009233    342.33666             1403.0   LC/MS Pos Late  151731.0  1482.0   \n",
       "100015759    370.36797             1408.0   LC/MS Pos Late       NaN  1520.0   \n",
       "\n",
       "                                      SUB_PATHWAY SUPER_PATHWAY  \\\n",
       "CHEMICAL_ID                                                       \n",
       "100009332    Fatty Acid Metabolism (Acyl Choline)         Lipid   \n",
       "1256                      Phospholipid Metabolism         Lipid   \n",
       "267                       Phospholipid Metabolism         Lipid   \n",
       "100009335    Fatty Acid Metabolism (Acyl Choline)         Lipid   \n",
       "100009333    Fatty Acid Metabolism (Acyl Choline)         Lipid   \n",
       "100009336    Fatty Acid Metabolism (Acyl Choline)         Lipid   \n",
       "100000269                 Phospholipid Metabolism         Lipid   \n",
       "100015760    Fatty Acid Metabolism (Acyl Choline)         Lipid   \n",
       "100009331    Fatty Acid Metabolism (Acyl Choline)         Lipid   \n",
       "100009334    Fatty Acid Metabolism (Acyl Choline)         Lipid   \n",
       "100009233    Fatty Acid Metabolism (Acyl Choline)         Lipid   \n",
       "100015759    Fatty Acid Metabolism (Acyl Choline)         Lipid   \n",
       "\n",
       "                                    COMMENT  \n",
       "CHEMICAL_ID                                  \n",
       "100009332               arachidonoylcholine  \n",
       "1256                                choline  \n",
       "267                       choline phosphate  \n",
       "100009335         dihomo-linolenoyl-choline  \n",
       "100009333            docosahexaenoylcholine  \n",
       "100009336           eicosapentaenoylcholine  \n",
       "100000269    glycerophosphorylcholine (GPC)  \n",
       "100015760                 linoleoylcholine*  \n",
       "100009331                     oleoylcholine  \n",
       "100009334               palmitoloelycholine  \n",
       "100009233                  palmitoylcholine  \n",
       "100015759                  stearoylcholine*  "
      ]
     },
     "execution_count": 63,
     "metadata": {},
     "output_type": "execute_result"
    }
   ],
   "source": [
    "updated_metabs1[updated_metabs1.BIOCHEMICAL.str.contains('choline')]"
   ]
  },
  {
   "cell_type": "code",
   "execution_count": 124,
   "metadata": {
    "ExecuteTime": {
     "end_time": "2020-06-26T06:17:15.904968Z",
     "start_time": "2020-06-26T06:17:15.848174Z"
    }
   },
   "outputs": [
    {
     "data": {
      "text/plain": [
       "-0.09265845949199689"
      ]
     },
     "execution_count": 124,
     "metadata": {},
     "output_type": "execute_result"
    }
   ],
   "source": [
    "min_bar_value_to_label"
   ]
  },
  {
   "cell_type": "code",
   "execution_count": 70,
   "metadata": {
    "ExecuteTime": {
     "end_time": "2020-08-13T16:44:50.792237Z",
     "start_time": "2020-08-13T16:44:50.748006Z"
    }
   },
   "outputs": [
    {
     "data": {
      "text/plain": [
       "2.3227091633466137"
      ]
     },
     "execution_count": 70,
     "metadata": {},
     "output_type": "execute_result"
    }
   ],
   "source": [
    "5.83/2.51"
   ]
  },
  {
   "cell_type": "code",
   "execution_count": 91,
   "metadata": {
    "ExecuteTime": {
     "end_time": "2020-08-13T16:55:03.709947Z",
     "start_time": "2020-08-13T16:55:03.182573Z"
    }
   },
   "outputs": [
    {
     "ename": "ValueError",
     "evalue": "style must be one of white, dark, whitegrid, darkgrid, ticks",
     "output_type": "error",
     "traceback": [
      "\u001b[0;31m---------------------------------------------------------------------------\u001b[0m",
      "\u001b[0;31mValueError\u001b[0m                                Traceback (most recent call last)",
      "\u001b[0;32m<ipython-input-91-bd4492d9e86d>\u001b[0m in \u001b[0;36m<module>\u001b[0;34m\u001b[0m\n\u001b[0;32m----> 1\u001b[0;31m \u001b[0msns\u001b[0m\u001b[0;34m.\u001b[0m\u001b[0mset_style\u001b[0m\u001b[0;34m(\u001b[0m\u001b[0;34m'noam'\u001b[0m\u001b[0;34m)\u001b[0m\u001b[0;34m\u001b[0m\u001b[0;34m\u001b[0m\u001b[0m\n\u001b[0m",
      "\u001b[0;32m/usr/wisdom/python-3.7.4/lib/python3.7/site-packages/seaborn/rcmod.py\u001b[0m in \u001b[0;36mset_style\u001b[0;34m(style, rc)\u001b[0m\n\u001b[1;32m    326\u001b[0m \u001b[0;34m\u001b[0m\u001b[0m\n\u001b[1;32m    327\u001b[0m     \"\"\"\n\u001b[0;32m--> 328\u001b[0;31m     \u001b[0mstyle_object\u001b[0m \u001b[0;34m=\u001b[0m \u001b[0maxes_style\u001b[0m\u001b[0;34m(\u001b[0m\u001b[0mstyle\u001b[0m\u001b[0;34m,\u001b[0m \u001b[0mrc\u001b[0m\u001b[0;34m)\u001b[0m\u001b[0;34m\u001b[0m\u001b[0;34m\u001b[0m\u001b[0m\n\u001b[0m\u001b[1;32m    329\u001b[0m     \u001b[0mmpl\u001b[0m\u001b[0;34m.\u001b[0m\u001b[0mrcParams\u001b[0m\u001b[0;34m.\u001b[0m\u001b[0mupdate\u001b[0m\u001b[0;34m(\u001b[0m\u001b[0mstyle_object\u001b[0m\u001b[0;34m)\u001b[0m\u001b[0;34m\u001b[0m\u001b[0;34m\u001b[0m\u001b[0m\n\u001b[1;32m    330\u001b[0m \u001b[0;34m\u001b[0m\u001b[0m\n",
      "\u001b[0;32m/usr/wisdom/python-3.7.4/lib/python3.7/site-packages/seaborn/rcmod.py\u001b[0m in \u001b[0;36maxes_style\u001b[0;34m(style, rc)\u001b[0m\n\u001b[1;32m    179\u001b[0m         \u001b[0mstyles\u001b[0m \u001b[0;34m=\u001b[0m \u001b[0;34m[\u001b[0m\u001b[0;34m\"white\"\u001b[0m\u001b[0;34m,\u001b[0m \u001b[0;34m\"dark\"\u001b[0m\u001b[0;34m,\u001b[0m \u001b[0;34m\"whitegrid\"\u001b[0m\u001b[0;34m,\u001b[0m \u001b[0;34m\"darkgrid\"\u001b[0m\u001b[0;34m,\u001b[0m \u001b[0;34m\"ticks\"\u001b[0m\u001b[0;34m]\u001b[0m\u001b[0;34m\u001b[0m\u001b[0;34m\u001b[0m\u001b[0m\n\u001b[1;32m    180\u001b[0m         \u001b[0;32mif\u001b[0m \u001b[0mstyle\u001b[0m \u001b[0;32mnot\u001b[0m \u001b[0;32min\u001b[0m \u001b[0mstyles\u001b[0m\u001b[0;34m:\u001b[0m\u001b[0;34m\u001b[0m\u001b[0;34m\u001b[0m\u001b[0m\n\u001b[0;32m--> 181\u001b[0;31m             \u001b[0;32mraise\u001b[0m \u001b[0mValueError\u001b[0m\u001b[0;34m(\u001b[0m\u001b[0;34m\"style must be one of %s\"\u001b[0m \u001b[0;34m%\u001b[0m \u001b[0;34m\", \"\u001b[0m\u001b[0;34m.\u001b[0m\u001b[0mjoin\u001b[0m\u001b[0;34m(\u001b[0m\u001b[0mstyles\u001b[0m\u001b[0;34m)\u001b[0m\u001b[0;34m)\u001b[0m\u001b[0;34m\u001b[0m\u001b[0;34m\u001b[0m\u001b[0m\n\u001b[0m\u001b[1;32m    182\u001b[0m \u001b[0;34m\u001b[0m\u001b[0m\n\u001b[1;32m    183\u001b[0m         \u001b[0;31m# Define colors here\u001b[0m\u001b[0;34m\u001b[0m\u001b[0;34m\u001b[0m\u001b[0;34m\u001b[0m\u001b[0m\n",
      "\u001b[0;31mValueError\u001b[0m: style must be one of white, dark, whitegrid, darkgrid, ticks"
     ]
    }
   ],
   "source": [
    "sns.set_style('noam')"
   ]
  },
  {
   "cell_type": "code",
   "execution_count": 93,
   "metadata": {
    "ExecuteTime": {
     "end_time": "2020-08-13T16:55:40.257212Z",
     "start_time": "2020-08-13T16:55:35.324960Z"
    },
    "scrolled": true
   },
   "outputs": [
    {
     "name": "stdout",
     "output_type": "stream",
     "text": [
      "(1558.0, 0.163646862484361)\n",
      "(536.0, 4.575013296844873e-11)\n",
      "(782.0, 1.256446116955215e-07)\n"
     ]
    },
    {
     "data": {
      "image/png": "[encoded data removed]",
      "text/plain": [
       "<Figure size 167.235x261.954 with 2 Axes>"
      ]
     },
     "metadata": {},
     "output_type": "display_data"
    }
   ],
   "source": [
    "# a = Utils.Load('/net/mraid08/export/jafar/Microbiome/Analyses/Noamba/Metabolon/SHAP/DaysFromFirstSample/MAR17_Metabolomics_min_rzs_wholebread/abs_signed_shap.dat')\n",
    "a = pd.read_csv('/net/mraid08/export/jafar/Microbiome/Analyses/Noamba/Metabolon/SHAP/DaysFromFirstSample/MAR17_Metabolomics_min_rzs_wholebread/abs_signed_shap.csv', index_col=0).loc[metabolomics.columns]\n",
    "n = 59\n",
    "top100_wholebread = a.iloc[:, 0].sort_values().tail(n).index\n",
    "bot100_wholebread = a.iloc[:, 0].sort_values().head(n).index\n",
    "\n",
    "sns.set_style('ticks')\n",
    "\n",
    "# fig, (ax1, ax2) = plt.subplots(2, 1, figsize=(7, 10))\n",
    "fig, (ax1, ax2) = plt.subplots(2, 1, figsize=(5.83/2.51, 9.132/2.51))\n",
    "\n",
    "label_fontsize = 5\n",
    "tick_fontsize = 15\n",
    "\n",
    "# fig, ax = plt.subplots(1, 1, figsize=(7,5))\n",
    "color = 'lightgrey'\n",
    "ax1.hist(a.iloc[:, 0], color=color, linewidth=0, bins=30)\n",
    "\n",
    "min_bar_value_to_label = a.iloc[:, 0].quantile([0.05]).values[0]\n",
    "max_bar_value_to_label = a.iloc[:, 0].quantile([0.94]).values[0]\n",
    "for i, rectangle in enumerate(ax1.patches):  # iterate over every bar\n",
    "    if rectangle.get_x() <= min_bar_value_to_label:\n",
    "        ax1.patches[i].set_color('tomato')\n",
    "    if rectangle.get_x() >= max_bar_value_to_label:\n",
    "        ax1.patches[i].set_color('dodgerblue')\n",
    "\n",
    "ax1.set_xlim((-0.8, 0.8))\n",
    "sns.despine(bottom=False)\n",
    "ax1.set_xticks([-0.8, -0.4, 0, 0.4, 0.8])\n",
    "\n",
    "\n",
    "ax1.set_xlabel('Directional mean absolute SHAP value\\nof whole-wheat bread consumption', fontsize=label_fontsize)\n",
    "ax1.set_ylabel('Number of metabolites', fontsize=label_fontsize)\n",
    "\n",
    "# ax1.set_xticklabels([-0.3, 0, 0.3], fontsize=20)\n",
    "ax1.set_yticks([0, 100, 200])\n",
    "# ax1.set_yticklabels([0, 50, 100], fontsize=20)\n",
    "ax1.tick_params(labelsize=label_fontsize)\n",
    "\n",
    "ax1.text(-0.7, 130, str(n) + ' Top 5%\\nnegatively\\ndriven\\nmetabolites', color='tomato', fontsize=label_fontsize)\n",
    "ax1.text(0.3, 130, str(n) + ' Top 5%\\npositively\\ndriven\\nmetabolites', color='dodgerblue', fontsize=label_fontsize)\n",
    "\n",
    "ax1.annotate('betaine', xy=(a.loc['799'], 10), xytext=(a.loc['799']+0.1, 100),\n",
    "                    arrowprops=dict(facecolor='black', shrink=0.02, width=2, headwidth=5, headlength=5), annotation_clip=False, fontsize=label_fontsize)\n",
    "ax1.annotate('cytosine', xy=(a.loc['881'], 1), xytext=(a.loc['881']+0.1, 50),\n",
    "                    arrowprops=dict(facecolor='black', shrink=0.02, width=2, headwidth=5, headlength=5), annotation_clip=False, fontsize=label_fontsize)\n",
    "# plt.savefig(draft_figures_dir + '/6B_Bread_PNP_real_correlation_hist.png')\n",
    "\n",
    "\n",
    "boxprops = dict(linestyle='--', linewidth=1, color='black')\n",
    "medianprops = dict(linestyle='-', linewidth=1, color='black')\n",
    "whiskerprops = dict(linestyle='-', linewidth=1, color='black')\n",
    "capprops = dict(linestyle='-', linewidth=1, color='black')\n",
    "\n",
    "bplot1 = ax2.boxplot([whitewheat_bread_diff_df.loc[bot100_wholebread, 'diff'], whitewheat_bread_diff_df.loc[top100_wholebread, 'diff'], \n",
    "            wholemeal_bread_diff_df.loc[bot100_wholebread, 'diff'], wholemeal_bread_diff_df.loc[top100_wholebread, 'diff']],\n",
    "          vert=False, positions=[0, 1, 4, 5], patch_artist=True, boxprops=boxprops, medianprops=medianprops, whiskerprops=whiskerprops, capprops=capprops, showfliers=False)\n",
    "\n",
    "colors = ['tomato', 'dodgerblue', 'tomato',  'dodgerblue']\n",
    "for patch, color in zip(bplot1['boxes'], colors):\n",
    "    patch.set_facecolor(color)\n",
    "\n",
    "ax2.set_xlim((-1., 1.7))\n",
    "ax2.axvline(0, color=\"k\", linestyle='--')\n",
    "\n",
    "# ax.set_xticks([-1, 0, 1])\n",
    "# ax.set_xticklabels([0.1, 1, 10], fontsize=28)\n",
    "ax2.set_xticks([np.log10(0.1), np.log10(0.5), 0, np.log10(2), 1, np.log10(100)])\n",
    "ax2.set_xticklabels([0.1, 0.5, 1, 2, 10, 100], fontsize=label_fontsize)\n",
    "# ax.set_xscale('log')\n",
    "ax2.set_yticks([0.5, 4.5])\n",
    "ax2.set_yticklabels(['White\\nbread', 'Sourdough\\nbread'], fontsize=label_fontsize, rotation=90)\n",
    "ax2.set_xlabel('Mean FC in metabolite after bread consumption', fontsize=label_fontsize)\n",
    "sns.despine(bottom=False)\n",
    "ax2.set_xlim((np.log10(0.02), np.log10(200)))\n",
    "\n",
    "print (directed_mannwhitneyu(whitewheat_bread_diff_df.loc[bot100_wholebread, 'diff'], whitewheat_bread_diff_df.loc[top100_wholebread, 'diff']))\n",
    "print (directed_mannwhitneyu(wholemeal_bread_diff_df.loc[bot100_wholebread, 'diff'], wholemeal_bread_diff_df.loc[top100_wholebread, 'diff']))\n",
    "print (directed_mannwhitneyu(whitewheat_bread_diff_df.loc[top100_wholebread, 'diff'], wholemeal_bread_diff_df.loc[top100_wholebread, 'diff']))\n",
    "\n",
    "t, p = mannwhitneyu(wholemeal_bread_diff_df.loc[bot100_wholebread, 'diff'], wholemeal_bread_diff_df.loc[top100_wholebread, 'diff'])\n",
    "color = 'black'\n",
    "ax2.plot([1.75, 1.75], [4, 5], color=color, linestyle='-', linewidth=1)\n",
    "ax2.text(x=1.8, y=4.5, s='p=%0.1g'%p, color=color, fontsize=label_fontsize, rotation=270, va='center')\n",
    "\n",
    "t, p = mannwhitneyu(whitewheat_bread_diff_df.loc[bot100_wholebread, 'diff'], whitewheat_bread_diff_df.loc[top100_wholebread, 'diff'])\n",
    "ax2.plot([1.75, 1.75], [0, 1], color=color, linestyle='-', linewidth=1)\n",
    "ax2.text(x=1.8, y=0.5, s='p=%0.1g'%p, color=color, fontsize=label_fontsize, rotation=270, va='center')\n",
    "\n",
    "t, p = mannwhitneyu(whitewheat_bread_diff_df.loc[top100_wholebread, 'diff'], wholemeal_bread_diff_df.loc[top100_wholebread, 'diff'])\n",
    "ax2.plot([2.2, 2.2], [1, 5], color=color, linestyle='-', linewidth=1)\n",
    "ax2.text(x=2.25, y=3, s='p=%0.1g'%p, color=color, fontsize=label_fontsize, rotation=270, va='center')\n",
    "\n",
    "# ax2.plot([1.05, 1.05], [0, 4], color=astrix_color, linestyle='-', linewidth=3)\n",
    "# ax2.text(x=1.08, y=2, s='n.s.', color=astrix_color, fontsize=20, rotation=270)\n",
    "fig.tight_layout()\n",
    "plt.text(-0.17, 1.02, 'b', ha='center', va='center', transform=ax1.transAxes, fontsize=label_fontsize*1.5, weight='bold')\n",
    "plt.text(-0.17, 1.02, 'd', ha='center', va='center', transform=ax2.transAxes, fontsize=label_fontsize*1.5, weight='bold')\n",
    "\n",
    "plt.savefig(os.path.join(figure_dir, 'b+d_Bread_hist+boxplots_SHAP_small.png'), dpi=200, bbox_inches='tight')\n",
    "plt.savefig(os.path.join(figure_dir, 'b+d_Bread_hist+boxplots_SHAP.png'), dpi=1000, bbox_inches='tight')\n",
    "plt.savefig(os.path.join(figure_dir, 'b+d_Bread_hist+boxplots_SHAP.pdf'), dpi=500, bbox_inches='tight')"
   ]
  },
  {
   "cell_type": "code",
   "execution_count": 134,
   "metadata": {
    "ExecuteTime": {
     "end_time": "2020-06-26T06:24:43.760841Z",
     "start_time": "2020-06-26T06:24:43.690183Z"
    }
   },
   "outputs": [
    {
     "name": "stdout",
     "output_type": "stream",
     "text": [
      "(1558.0, 0.163646862484361)\n",
      "(536.0, 4.575013296844873e-11)\n",
      "(782.0, 1.256446116955215e-07)\n"
     ]
    }
   ],
   "source": [
    "print (directed_mannwhitneyu(whitewheat_bread_diff_df.loc[bot100_wholebread, 'diff'], whitewheat_bread_diff_df.loc[top100_wholebread, 'diff']))\n",
    "print (directed_mannwhitneyu(wholemeal_bread_diff_df.loc[bot100_wholebread, 'diff'], wholemeal_bread_diff_df.loc[top100_wholebread, 'diff']))\n",
    "print (directed_mannwhitneyu(whitewheat_bread_diff_df.loc[top100_wholebread, 'diff'], wholemeal_bread_diff_df.loc[top100_wholebread, 'diff']))\n",
    "# print (directed_mannwhitneyu(whitewheat_bread_diff_df.loc[bot100_wholebread, 'diff'], wholemeal_bread_diff_df.loc[bot100_wholebread, 'diff']))"
   ]
  },
  {
   "cell_type": "code",
   "execution_count": 163,
   "metadata": {
    "ExecuteTime": {
     "end_time": "2020-06-26T06:37:34.774268Z",
     "start_time": "2020-06-26T06:37:34.714825Z"
    }
   },
   "outputs": [
    {
     "data": {
      "text/plain": [
       "0.6567584265509007"
      ]
     },
     "execution_count": 163,
     "metadata": {},
     "output_type": "execute_result"
    }
   ],
   "source": [
    "10**wholemeal_bread_diff_df.loc[top100_wholebread, 'diff'].median()\n",
    "10**wholemeal_bread_diff_df.loc[bot100_wholebread, 'diff'].median()"
   ]
  },
  {
   "cell_type": "markdown",
   "metadata": {},
   "source": [
    "## E-F - swarm plots"
   ]
  },
  {
   "cell_type": "code",
   "execution_count": 1324,
   "metadata": {
    "ExecuteTime": {
     "end_time": "2019-01-12T17:08:31.183819Z",
     "start_time": "2019-01-12T17:08:30.235659Z"
    }
   },
   "outputs": [],
   "source": [
    "a = Utils.Load('/net/mraid08/export/jafar/Microbiome/Analyses/Noamba/Metabolon/SHAP/DaysFromFirstSample/MAR17_Metabolomics_min_rzs_wholebread/abs_signed_shap.dat')\n",
    "b = Utils.Load('/net/mraid08/export/jafar/Microbiome/Analyses/Noamba/Metabolon/SHAP/DaysFromFirstSample/MAR17_Metabolomics_min_rzs_whitebread/abs_signed_shap.dat')\n",
    "c = Utils.Load('/net/mraid08/export/jafar/Microbiome/Analyses/Noamba/Metabolon/SHAP/DaysFromFirstSample/MAR17_Metabolomics_min_rzs_wholewheat/abs_signed_shap.dat')\n",
    "d = Utils.Load('/net/mraid08/export/jafar/Microbiome/Analyses/Noamba/Metabolon/SHAP/DaysFromFirstSample/MAR17_Metabolomics_min_rzs_whitewheat/abs_signed_shap.dat')"
   ]
  },
  {
   "cell_type": "code",
   "execution_count": 1341,
   "metadata": {
    "ExecuteTime": {
     "end_time": "2019-01-12T17:16:07.682245Z",
     "start_time": "2019-01-12T17:16:07.558908Z"
    },
    "scrolled": true
   },
   "outputs": [
    {
     "name": "stdout",
     "output_type": "stream",
     "text": [
      "MannwhitneyuResult(statistic=760.0, pvalue=3.22658986640207e-09)\n",
      "MannwhitneyuResult(statistic=1820.0, pvalue=0.3059935400968945)\n",
      "1.4464436964342524\n",
      "0.6582762587404157\n",
      "0.878369671399932\n",
      "0.732356917488342\n"
     ]
    }
   ],
   "source": [
    "n = 62\n",
    "top100_wholewheat = a.iloc[:, 0].sort_values().tail(n).index\n",
    "bot100_wholewheat = a.iloc[:, 0].sort_values().head(n).index\n",
    "top100_whitewheat = a.iloc[:, 0].sort_values().tail(n).index\n",
    "bot100_whitewheat = a.iloc[:, 0].sort_values().head(n).index\n",
    "print (mannwhitneyu(wholemeal_bread_diff_df.loc[top100_wholewheat, 'diff'],\n",
    "            wholemeal_bread_diff_df.loc[bot100_wholewheat, 'diff']))\n",
    "print (mannwhitneyu(whitewheat_bread_diff_df.loc[top100_whitewheat, 'diff'],\n",
    "            whitewheat_bread_diff_df.loc[bot100_whitewheat, 'diff']))\n",
    "\n",
    "print (wholemeal_bread_diff_df.loc[top100_wholewheat, 'diff'].apply(lambda x: 10**x).median())\n",
    "print (wholemeal_bread_diff_df.loc[bot100_wholewheat, 'diff'].apply(lambda x: 10**x).median())\n",
    "print (whitewheat_bread_diff_df.loc[top100_whitewheat, 'diff'].apply(lambda x: 10**x).median())\n",
    "print (whitewheat_bread_diff_df.loc[bot100_whitewheat, 'diff'].apply(lambda x: 10**x).median())"
   ]
  },
  {
   "cell_type": "code",
   "execution_count": 1033,
   "metadata": {
    "ExecuteTime": {
     "end_time": "2019-01-09T10:19:31.673215Z",
     "start_time": "2019-01-09T10:19:31.571339Z"
    }
   },
   "outputs": [
    {
     "data": {
      "text/plain": [
       "100004322     3.364294\n",
       "X - 12818     5.788004\n",
       "881          78.494399\n",
       "X - 16964     0.670874\n",
       "100020373     0.594618\n",
       "Name: diff, dtype: float64"
      ]
     },
     "execution_count": 1033,
     "metadata": {},
     "output_type": "execute_result"
    }
   ],
   "source": [
    "wholemeal_bread_diff_df.loc[top100_wholewheat, 'diff'].apply(lambda x: 10**x)"
   ]
  },
  {
   "cell_type": "code",
   "execution_count": 7,
   "metadata": {
    "ExecuteTime": {
     "end_time": "2020-08-11T13:51:38.990453Z",
     "start_time": "2020-08-11T13:51:38.628364Z"
    }
   },
   "outputs": [
    {
     "data": {
      "text/html": [
       "<div>\n",
       "<style scoped>\n",
       "    .dataframe tbody tr th:only-of-type {\n",
       "        vertical-align: middle;\n",
       "    }\n",
       "\n",
       "    .dataframe tbody tr th {\n",
       "        vertical-align: top;\n",
       "    }\n",
       "\n",
       "    .dataframe thead th {\n",
       "        text-align: right;\n",
       "    }\n",
       "</style>\n",
       "<table border=\"1\" class=\"dataframe\">\n",
       "  <thead>\n",
       "    <tr style=\"text-align: right;\">\n",
       "      <th></th>\n",
       "      <th>COMP_ID</th>\n",
       "      <th>Group   HMDB_ID</th>\n",
       "      <th>Sample   HMDB_ID</th>\n",
       "      <th>BIOCHEMICAL</th>\n",
       "      <th>CAS</th>\n",
       "      <th>CHEMSPIDER</th>\n",
       "      <th>KEGG</th>\n",
       "      <th>MASS</th>\n",
       "      <th>PATHWAY_SORTORDER</th>\n",
       "      <th>PLATFORM</th>\n",
       "      <th>PUBCHEM</th>\n",
       "      <th>RI</th>\n",
       "      <th>SUB_PATHWAY</th>\n",
       "      <th>SUPER_PATHWAY</th>\n",
       "      <th>COMMENT</th>\n",
       "    </tr>\n",
       "    <tr>\n",
       "      <th>CHEMICAL_ID</th>\n",
       "      <th></th>\n",
       "      <th></th>\n",
       "      <th></th>\n",
       "      <th></th>\n",
       "      <th></th>\n",
       "      <th></th>\n",
       "      <th></th>\n",
       "      <th></th>\n",
       "      <th></th>\n",
       "      <th></th>\n",
       "      <th></th>\n",
       "      <th></th>\n",
       "      <th></th>\n",
       "      <th></th>\n",
       "      <th></th>\n",
       "    </tr>\n",
       "  </thead>\n",
       "  <tbody>\n",
       "    <tr>\n",
       "      <th>799</th>\n",
       "      <td>3141</td>\n",
       "      <td>HMDB00043</td>\n",
       "      <td>NaN</td>\n",
       "      <td>betaine</td>\n",
       "      <td>107-43-7</td>\n",
       "      <td>2.421995e+10</td>\n",
       "      <td>C00719</td>\n",
       "      <td>118.08626</td>\n",
       "      <td>6.0</td>\n",
       "      <td>LC/MS Pos Early</td>\n",
       "      <td>247.0</td>\n",
       "      <td>1064.0</td>\n",
       "      <td>Glycine, Serine and Threonine Metabolism</td>\n",
       "      <td>Amino Acid</td>\n",
       "      <td>betaine</td>\n",
       "    </tr>\n",
       "    <tr>\n",
       "      <th>881</th>\n",
       "      <td>573</td>\n",
       "      <td>HMDB00630</td>\n",
       "      <td>NaN</td>\n",
       "      <td>cytosine</td>\n",
       "      <td>71-30-7</td>\n",
       "      <td>5.770000e+02</td>\n",
       "      <td>C00380</td>\n",
       "      <td>112.05054</td>\n",
       "      <td>3346.0</td>\n",
       "      <td>LC/MS Pos Early</td>\n",
       "      <td>597.0</td>\n",
       "      <td>2060.0</td>\n",
       "      <td>Pyrimidine Metabolism, Cytidine containing</td>\n",
       "      <td>Nucleotide</td>\n",
       "      <td>cytosine</td>\n",
       "    </tr>\n",
       "    <tr>\n",
       "      <th>X - 24747</th>\n",
       "      <td>53266</td>\n",
       "      <td>NaN</td>\n",
       "      <td>NaN</td>\n",
       "      <td>X - 24747</td>\n",
       "      <td>NaN</td>\n",
       "      <td>NaN</td>\n",
       "      <td>NaN</td>\n",
       "      <td>321.14689</td>\n",
       "      <td>NaN</td>\n",
       "      <td>LC/MS Neg</td>\n",
       "      <td>NaN</td>\n",
       "      <td>4360.0</td>\n",
       "      <td>NaN</td>\n",
       "      <td>NaN</td>\n",
       "      <td>X - 24747</td>\n",
       "    </tr>\n",
       "  </tbody>\n",
       "</table>\n",
       "</div>"
      ],
      "text/plain": [
       "             COMP_ID                                Group   HMDB_ID  \\\n",
       "CHEMICAL_ID                                                           \n",
       "799             3141                                      HMDB00043   \n",
       "881              573                                      HMDB00630   \n",
       "X - 24747      53266                                            NaN   \n",
       "\n",
       "                                           Sample   HMDB_ID BIOCHEMICAL  \\\n",
       "CHEMICAL_ID                                                               \n",
       "799                                                     NaN     betaine   \n",
       "881                                                     NaN    cytosine   \n",
       "X - 24747                                               NaN   X - 24747   \n",
       "\n",
       "                  CAS    CHEMSPIDER    KEGG       MASS  PATHWAY_SORTORDER  \\\n",
       "CHEMICAL_ID                                                                 \n",
       "799          107-43-7  2.421995e+10  C00719  118.08626                6.0   \n",
       "881           71-30-7  5.770000e+02  C00380  112.05054             3346.0   \n",
       "X - 24747         NaN           NaN     NaN  321.14689                NaN   \n",
       "\n",
       "                    PLATFORM  PUBCHEM      RI  \\\n",
       "CHEMICAL_ID                                     \n",
       "799          LC/MS Pos Early    247.0  1064.0   \n",
       "881          LC/MS Pos Early    597.0  2060.0   \n",
       "X - 24747          LC/MS Neg      NaN  4360.0   \n",
       "\n",
       "                                            SUB_PATHWAY SUPER_PATHWAY  \\\n",
       "CHEMICAL_ID                                                             \n",
       "799            Glycine, Serine and Threonine Metabolism    Amino Acid   \n",
       "881          Pyrimidine Metabolism, Cytidine containing    Nucleotide   \n",
       "X - 24747                                           NaN           NaN   \n",
       "\n",
       "               COMMENT  \n",
       "CHEMICAL_ID             \n",
       "799            betaine  \n",
       "881           cytosine  \n",
       "X - 24747    X - 24747  "
      ]
     },
     "execution_count": 7,
     "metadata": {},
     "output_type": "execute_result"
    }
   ],
   "source": [
    "up_examples = ['799', '881', 'X - 24747']\n",
    "down_examples = ['100001267', 'X - 12798', 'X - 24588']\n",
    "# metabs1[metabs1.CHEMICAL_ID.isin(up_examples)]\n",
    "updated_metabs1[updated_metabs1.index.isin(up_examples)]"
   ]
  },
  {
   "cell_type": "code",
   "execution_count": 8,
   "metadata": {
    "ExecuteTime": {
     "end_time": "2020-08-11T13:52:00.979822Z",
     "start_time": "2020-08-11T13:52:00.073329Z"
    },
    "scrolled": true
   },
   "outputs": [],
   "source": [
    "wholemeal_end_minus_start = (change_index(rzs.loc[bread_end[bread_start.W1IsReg == False].CLIENT_IDENTIFIER].copy(), bread_df, 'CLIENT_IDENTIFIER', 'ConnectionID') - \\\n",
    "                             change_index(rzs.loc[bread_start[bread_start.W1IsReg == False].CLIENT_IDENTIFIER].copy(), bread_df, 'CLIENT_IDENTIFIER', 'ConnectionID')).apply(lambda x: 10**x).apply(np.log2)\n",
    "wholemeal_end_minus_start['kind'] = 'wholemeal'\n",
    "whitewheat_end_minus_start = (change_index(rzs.loc[bread_end[bread_start.W1IsReg == True].CLIENT_IDENTIFIER].copy(), bread_df, 'CLIENT_IDENTIFIER', 'ConnectionID') - \\\n",
    "                             change_index(rzs.loc[bread_start[bread_start.W1IsReg == True].CLIENT_IDENTIFIER].copy(), bread_df, 'CLIENT_IDENTIFIER', 'ConnectionID')).apply(lambda x: 10**x).apply(np.log2)\n",
    "whitewheat_end_minus_start['kind'] = 'whitewheat'\n",
    "end_minus_start = pd.concat((wholemeal_end_minus_start, whitewheat_end_minus_start))"
   ]
  },
  {
   "cell_type": "code",
   "execution_count": 10,
   "metadata": {
    "ExecuteTime": {
     "end_time": "2020-08-11T13:52:10.130949Z",
     "start_time": "2020-08-11T13:52:10.074536Z"
    },
    "scrolled": true
   },
   "outputs": [
    {
     "data": {
      "text/html": [
       "<div>\n",
       "<style scoped>\n",
       "    .dataframe tbody tr th:only-of-type {\n",
       "        vertical-align: middle;\n",
       "    }\n",
       "\n",
       "    .dataframe tbody tr th {\n",
       "        vertical-align: top;\n",
       "    }\n",
       "\n",
       "    .dataframe thead th {\n",
       "        text-align: right;\n",
       "    }\n",
       "</style>\n",
       "<table border=\"1\" class=\"dataframe\">\n",
       "  <thead>\n",
       "    <tr style=\"text-align: right;\">\n",
       "      <th></th>\n",
       "      <th>881</th>\n",
       "      <th>kind</th>\n",
       "    </tr>\n",
       "    <tr>\n",
       "      <th>ConnectionID</th>\n",
       "      <th></th>\n",
       "      <th></th>\n",
       "    </tr>\n",
       "  </thead>\n",
       "  <tbody>\n",
       "    <tr>\n",
       "      <th>1320</th>\n",
       "      <td>8.752499</td>\n",
       "      <td>wholemeal</td>\n",
       "    </tr>\n",
       "    <tr>\n",
       "      <th>1322</th>\n",
       "      <td>5.971942</td>\n",
       "      <td>wholemeal</td>\n",
       "    </tr>\n",
       "    <tr>\n",
       "      <th>1323</th>\n",
       "      <td>1.374163</td>\n",
       "      <td>wholemeal</td>\n",
       "    </tr>\n",
       "    <tr>\n",
       "      <th>1324</th>\n",
       "      <td>8.005981</td>\n",
       "      <td>wholemeal</td>\n",
       "    </tr>\n",
       "    <tr>\n",
       "      <th>1326</th>\n",
       "      <td>2.746963</td>\n",
       "      <td>wholemeal</td>\n",
       "    </tr>\n",
       "    <tr>\n",
       "      <th>1327</th>\n",
       "      <td>8.224411</td>\n",
       "      <td>wholemeal</td>\n",
       "    </tr>\n",
       "    <tr>\n",
       "      <th>1331</th>\n",
       "      <td>6.483638</td>\n",
       "      <td>wholemeal</td>\n",
       "    </tr>\n",
       "    <tr>\n",
       "      <th>1334</th>\n",
       "      <td>1.305049</td>\n",
       "      <td>wholemeal</td>\n",
       "    </tr>\n",
       "    <tr>\n",
       "      <th>1335</th>\n",
       "      <td>10.283776</td>\n",
       "      <td>wholemeal</td>\n",
       "    </tr>\n",
       "    <tr>\n",
       "      <th>1338</th>\n",
       "      <td>9.796756</td>\n",
       "      <td>wholemeal</td>\n",
       "    </tr>\n",
       "    <tr>\n",
       "      <th>1319</th>\n",
       "      <td>0.263799</td>\n",
       "      <td>whitewheat</td>\n",
       "    </tr>\n",
       "    <tr>\n",
       "      <th>1325</th>\n",
       "      <td>-9.375871</td>\n",
       "      <td>whitewheat</td>\n",
       "    </tr>\n",
       "    <tr>\n",
       "      <th>1328</th>\n",
       "      <td>4.978432</td>\n",
       "      <td>whitewheat</td>\n",
       "    </tr>\n",
       "    <tr>\n",
       "      <th>1329</th>\n",
       "      <td>0.000000</td>\n",
       "      <td>whitewheat</td>\n",
       "    </tr>\n",
       "    <tr>\n",
       "      <th>1330</th>\n",
       "      <td>-3.069799</td>\n",
       "      <td>whitewheat</td>\n",
       "    </tr>\n",
       "    <tr>\n",
       "      <th>1332</th>\n",
       "      <td>-10.662497</td>\n",
       "      <td>whitewheat</td>\n",
       "    </tr>\n",
       "    <tr>\n",
       "      <th>1333</th>\n",
       "      <td>4.863013</td>\n",
       "      <td>whitewheat</td>\n",
       "    </tr>\n",
       "    <tr>\n",
       "      <th>1336</th>\n",
       "      <td>6.099611</td>\n",
       "      <td>whitewheat</td>\n",
       "    </tr>\n",
       "    <tr>\n",
       "      <th>1337</th>\n",
       "      <td>0.000000</td>\n",
       "      <td>whitewheat</td>\n",
       "    </tr>\n",
       "    <tr>\n",
       "      <th>1339</th>\n",
       "      <td>-2.245273</td>\n",
       "      <td>whitewheat</td>\n",
       "    </tr>\n",
       "  </tbody>\n",
       "</table>\n",
       "</div>"
      ],
      "text/plain": [
       "                    881        kind\n",
       "ConnectionID                       \n",
       "1320           8.752499   wholemeal\n",
       "1322           5.971942   wholemeal\n",
       "1323           1.374163   wholemeal\n",
       "1324           8.005981   wholemeal\n",
       "1326           2.746963   wholemeal\n",
       "1327           8.224411   wholemeal\n",
       "1331           6.483638   wholemeal\n",
       "1334           1.305049   wholemeal\n",
       "1335          10.283776   wholemeal\n",
       "1338           9.796756   wholemeal\n",
       "1319           0.263799  whitewheat\n",
       "1325          -9.375871  whitewheat\n",
       "1328           4.978432  whitewheat\n",
       "1329           0.000000  whitewheat\n",
       "1330          -3.069799  whitewheat\n",
       "1332         -10.662497  whitewheat\n",
       "1333           4.863013  whitewheat\n",
       "1336           6.099611  whitewheat\n",
       "1337           0.000000  whitewheat\n",
       "1339          -2.245273  whitewheat"
      ]
     },
     "execution_count": 10,
     "metadata": {},
     "output_type": "execute_result"
    }
   ],
   "source": [
    "end_minus_start[['881', 'kind']]"
   ]
  },
  {
   "cell_type": "code",
   "execution_count": 13,
   "metadata": {
    "ExecuteTime": {
     "end_time": "2020-08-11T13:54:32.351662Z",
     "start_time": "2020-08-11T13:54:32.303343Z"
    }
   },
   "outputs": [
    {
     "data": {
      "text/plain": [
       "MannwhitneyuResult(statistic=14.0, pvalue=0.00364227850473983)"
      ]
     },
     "execution_count": 13,
     "metadata": {},
     "output_type": "execute_result"
    }
   ],
   "source": [
    "c='881'\n",
    "mannwhitneyu(end_minus_start[end_minus_start['kind']=='wholemeal'][c], end_minus_start[end_minus_start['kind']=='whitewheat'][c])\n",
    "c='799'\n",
    "mannwhitneyu(end_minus_start[end_minus_start['kind']=='wholemeal'][c], end_minus_start[end_minus_start['kind']=='whitewheat'][c])"
   ]
  },
  {
   "cell_type": "code",
   "execution_count": 657,
   "metadata": {
    "ExecuteTime": {
     "end_time": "2019-01-08T11:55:28.650336Z",
     "start_time": "2019-01-08T11:55:26.082900Z"
    }
   },
   "outputs": [
    {
     "data": {
      "image/png": "[encoded data removed]",
      "text/plain": [
       "<matplotlib.figure.Figure at 0x2ab1d2009310>"
      ]
     },
     "metadata": {},
     "output_type": "display_data"
    }
   ],
   "source": [
    "sns.set_style('white')\n",
    "\n",
    "fig, axes = plt.subplots(2, 3, figsize=(8, 10))\n",
    "up_pl_down = up_examples + down_examples\n",
    "for i,ax,letter in zip(range(6), axes.flatten(), ['E', 'F', 'G', 'H', 'I', 'J']):\n",
    "    ax.axhline(y=0, color='black')\n",
    "    sns.swarmplot(y=up_pl_down[i], x=[0]*20, hue='kind', data=end_minus_start, ax=ax, palette={'whitewheat':'#FFE699', 'wholemeal':'#A06F4A'}, s=10)\n",
    "    ax.legend('')\n",
    "#     sns.swarmplot([0]*10, whitewheat_end_minus_start[up_pl_down[i]], ax=ax, color='blue', s=10)\n",
    "    max_val = end_minus_start[up_pl_down[i]].apply(abs).max()\n",
    "    ax.set_ylim((-max_val*1.2, max_val*1.2))\n",
    "    ax.set_yticklabels(['%0.1g'%(2**y) for y in ax.get_yticks()])\n",
    "    ax.set_title(metabs1[metabs1.CHEMICAL_ID == up_pl_down[i]].BIOCHEMICAL.values[0], fontsize=20)\n",
    "    if i%3 == 0:\n",
    "        ax.set_ylabel('Fold change in metabolite value', fontsize=20)\n",
    "    else:\n",
    "        ax.set_ylabel('')\n",
    "    ax.fill_between([-1, 1], [-100, 0], color='lightgrey')\n",
    "    ax.set_xticklabels([''])\n",
    "    ax.tick_params(labelsize=15)\n",
    "    plt.text(-0.17, 1.02, letter, ha='center', va='center', transform=ax.transAxes, fontsize=30)\n",
    "    \n",
    "legend_elements = [Line2D([0], [0], marker='o', color='w', markerfacecolor=colour, markersize=10, lw=4, label=label) for (label, colour) in {'White bread consumer':'#FFE699', 'Sourdough bread consumer':'#A06F4A'}.items()]\n",
    "leg = axes[1, 0].legend(handles=legend_elements, loc='center left', bbox_to_anchor=(0, -0.1), ncol=2, fontsize=15, frameon=True)\n",
    "# leg.get_frame().set_edgecolor('black')\n",
    "leg.get_frame().set_linewidth(1)\n",
    "# leg.get_frame().set_facecolor('black')\n",
    "# axes[1, 0].legend()\n",
    "# ax.axis('off')\n",
    "\n",
    "\n",
    "plt.savefig(draft_figures_dir + '/6E-J_Bread_hist+boxplots.png', dpi=200, bbox_inches='tight')"
   ]
  },
  {
   "cell_type": "code",
   "execution_count": 658,
   "metadata": {
    "ExecuteTime": {
     "end_time": "2019-01-08T11:55:45.399531Z",
     "start_time": "2019-01-08T11:55:42.712845Z"
    }
   },
   "outputs": [
    {
     "data": {
      "image/png": "[encoded data removed]",
      "text/plain": [
       "<matplotlib.figure.Figure at 0x2ab1d14b9bd0>"
      ]
     },
     "metadata": {},
     "output_type": "display_data"
    }
   ],
   "source": [
    "sns.set_style('white')\n",
    "\n",
    "fig, axes = plt.subplots(2, 1, figsize=(3, 9.5))\n",
    "up_pl_down = up_examples + down_examples\n",
    "for i,ax,letter in zip(range(2), axes.flatten(), ['E', 'F']):\n",
    "    ax.axhline(y=0, color='black')\n",
    "    sns.swarmplot(y=up_pl_down[i], x=[0]*20, hue='kind', data=end_minus_start, ax=ax, palette={'whitewheat':'#FFE699', 'wholemeal':'#A06F4A'}, s=10)\n",
    "    ax.legend('')\n",
    "#     sns.swarmplot([0]*10, whitewheat_end_minus_start[up_pl_down[i]], ax=ax, color='blue', s=10)\n",
    "    max_val = end_minus_start[up_pl_down[i]].apply(abs).max()\n",
    "    ax.set_ylim((-max_val*1.2, max_val*1.2))\n",
    "    ax.set_yticklabels(['%0.1g'%(2**y) for y in ax.get_yticks()])\n",
    "    ax.set_title(metabs1[metabs1.CHEMICAL_ID == up_pl_down[i]].BIOCHEMICAL.values[0], fontsize=20)\n",
    "    ax.set_ylabel('Fold change in metabolite value', fontsize=20)\n",
    "    ax.fill_between([-1, 1], [-100, 0], color='lightgrey')\n",
    "    ax.set_xticklabels([''])\n",
    "    ax.tick_params(labelsize=15)\n",
    "    plt.text(-0.17, 1.02, letter, ha='center', va='center', transform=ax.transAxes, fontsize=30)\n",
    "    \n",
    "legend_elements = [Line2D([0], [0], marker='o', color='w', markerfacecolor=colour, markersize=10, lw=4, label=label) for (label, colour) in {'White bread':'#FFE699', 'Sourdough bread':'#A06F4A'}.items()]\n",
    "leg = axes[1].legend(handles=legend_elements, loc='center left', bbox_to_anchor=(-0.457, -0.15), ncol=1, fontsize=15, frameon=True)\n",
    "# leg.get_frame().set_edgecolor('black')\n",
    "leg.get_frame().set_linewidth(1)\n",
    "# leg.get_frame().set_facecolor('black')\n",
    "# axes[1, 0].legend()\n",
    "# ax.axis('off')\n",
    "\n",
    "\n",
    "plt.savefig(draft_figures_dir + '/6E-F_Bread_hist+boxplots.png', dpi=500, bbox_inches='tight')"
   ]
  },
  {
   "cell_type": "code",
   "execution_count": 68,
   "metadata": {
    "ExecuteTime": {
     "end_time": "2020-08-13T05:26:53.935380Z",
     "start_time": "2020-08-13T05:26:49.989336Z"
    }
   },
   "outputs": [
    {
     "data": {
      "image/png": "[encoded data removed]",
      "text/plain": [
       "<Figure size 216x792 with 2 Axes>"
      ]
     },
     "metadata": {},
     "output_type": "display_data"
    }
   ],
   "source": [
    "sns.set_style('white')\n",
    "from matplotlib.lines import Line2D\n",
    "\n",
    "fig, axes = plt.subplots(2, 1, figsize=(3, 11))\n",
    "up_pl_down = up_examples + down_examples\n",
    "for i, ax, letter in zip(range(2), axes.flatten(), ['E', 'F']):\n",
    "    ax.axhline(y=0, color='black')\n",
    "    sns.swarmplot(y=up_pl_down[i], x=[0]*20, hue='kind', data=end_minus_start, ax=ax, palette={'whitewheat':'#FFE699', 'wholemeal':'#A06F4A'}, s=10)\n",
    "    ax.legend('')\n",
    "#     sns.swarmplot([0]*10, whitewheat_end_minus_start[up_pl_down[i]], ax=ax, color='blue', s=10)\n",
    "    max_val = end_minus_start[up_pl_down[i]].apply(abs).max()\n",
    "    ax.set_ylim((-max_val*1.2, max_val*1.2))\n",
    "    ax.set_yticklabels(['%1.e'%(2**y) for y in ax.get_yticks()])\n",
    "    ax.set_title(updated_metabs1[updated_metabs1.index == up_pl_down[i]].BIOCHEMICAL.values[0], fontsize=20)\n",
    "    ax.set_ylabel('Fold change in metabolite value', fontsize=20)\n",
    "    ax.fill_between([-1, 1], [-100, 0], color='lightgrey')\n",
    "    ax.set_xticklabels([''])\n",
    "    ax.tick_params(labelsize=15)\n",
    "#     ax.set_yticklabels(['%0.1g'%g for g in ax.get_yticks()])\n",
    "#     plt.text(-0.17, 1.02, letter, ha='center', va='center', transform=ax.transAxes, fontsize=30)\n",
    "    \n",
    "legend_elements = [Line2D([0], [0], marker='o', color='w', markerfacecolor=colour, markersize=10, lw=4, label=label) for (label, colour) in {'White bread':'#FFE699', 'Sourdough bread':'#A06F4A'}.items()]\n",
    "leg = axes[1].legend(handles=legend_elements, loc='center right', bbox_to_anchor=(1., -0.15), ncol=1, fontsize=15, frameon=True)\n",
    "# leg.get_frame().set_edgecolor('black')\n",
    "leg.get_frame().set_linewidth(1)\n",
    "# leg.get_frame().set_facecolor('black')\n",
    "# axes[1, 0].legend()\n",
    "# ax.axis('off')\n",
    "\n",
    "fig.tight_layout()\n",
    "\n",
    "plt.text(-0.25, 1., 'e', ha='center', va='center', transform=axes[0].transAxes, fontsize=30, weight='bold')\n",
    "plt.text(-0.25, 1., 'f', ha='center', va='center', transform=axes[1].transAxes, fontsize=30, weight='bold')\n",
    "\n",
    "plt.savefig(figure_dir + '/e-f_Bread_hist+boxplots.png', dpi=500, bbox_inches='tight')\n",
    "plt.savefig(figure_dir + '/e-f_Bread_hist+boxplots.pdf', dpi=500, bbox_inches='tight')"
   ]
  }
 ],
 "metadata": {
  "kernelspec": {
   "display_name": "Python 3",
   "language": "python",
   "name": "python3"
  },
  "language_info": {
   "codemirror_mode": {
    "name": "ipython",
    "version": 3
   },
   "file_extension": ".py",
   "mimetype": "text/x-python",
   "name": "python",
   "nbconvert_exporter": "python",
   "pygments_lexer": "ipython3",
   "version": "3.7.4"
  },
  "toc": {
   "nav_menu": {},
   "number_sections": true,
   "sideBar": true,
   "skip_h1_title": false,
   "toc_cell": false,
   "toc_position": {
    "height": "819px",
    "left": "0px",
    "right": "1682px",
    "top": "111px",
    "width": "238px"
   },
   "toc_section_display": "block",
   "toc_window_display": true
  }
 },
 "nbformat": 4,
 "nbformat_minor": 2
}
